{
 "cells": [
  {
   "cell_type": "code",
   "execution_count": 1,
   "metadata": {
    "colab": {
     "base_uri": "https://localhost:8080/",
     "height": 98
    },
    "colab_type": "code",
    "executionInfo": {
     "elapsed": 6571,
     "status": "ok",
     "timestamp": 1584456710057,
     "user": {
      "displayName": "Kha Lyl",
      "photoUrl": "https://lh3.googleusercontent.com/a-/AOh14GgFvsj4VNDWFJ2rEefJatQSqtxUXuU4JxrmOCpc=s64",
      "userId": "00701484849492216108"
     },
     "user_tz": -60
    },
    "id": "My2l2zsc23N1",
    "outputId": "81b6dc1a-feed-43c7-e1bc-b66160b5ba8b"
   },
   "outputs": [],
   "source": [
    "import pandas as pd\n",
    "import re\n",
    "import nltk\n",
    "from nltk.corpus import stopwords\n",
    "from  nltk.stem import SnowballStemmer\n",
    "import gensim\n",
    "from gensim.similarities import WmdSimilarity\n",
    "import time"
   ]
  },
  {
   "cell_type": "code",
   "execution_count": 2,
   "metadata": {},
   "outputs": [],
   "source": [
    "def import_data(data):\n",
    "    df = pd.read_csv(data, index_col=0)\n",
    "    df = pd.DataFrame(df['text'])\n",
    "    df = df.drop_duplicates()\n",
    "    df = df.reset_index().drop(columns=['index'])\n",
    "    return df"
   ]
  },
  {
   "cell_type": "code",
   "execution_count": 3,
   "metadata": {},
   "outputs": [
    {
     "data": {
      "text/html": [
       "<div>\n",
       "<style scoped>\n",
       "    .dataframe tbody tr th:only-of-type {\n",
       "        vertical-align: middle;\n",
       "    }\n",
       "\n",
       "    .dataframe tbody tr th {\n",
       "        vertical-align: top;\n",
       "    }\n",
       "\n",
       "    .dataframe thead th {\n",
       "        text-align: right;\n",
       "    }\n",
       "</style>\n",
       "<table border=\"1\" class=\"dataframe\">\n",
       "  <thead>\n",
       "    <tr style=\"text-align: right;\">\n",
       "      <th></th>\n",
       "      <th>text</th>\n",
       "    </tr>\n",
       "  </thead>\n",
       "  <tbody>\n",
       "    <tr>\n",
       "      <th>0</th>\n",
       "      <td>Here is my statement.pic.twitter.com/WAZiGoQqMQ</td>\n",
       "    </tr>\n",
       "    <tr>\n",
       "      <th>1</th>\n",
       "      <td>Is this really America? Terrible!pic.twitter.c...</td>\n",
       "    </tr>\n",
       "    <tr>\n",
       "      <th>2</th>\n",
       "      <td>The media and establishment want me out of the...</td>\n",
       "    </tr>\n",
       "    <tr>\n",
       "      <th>3</th>\n",
       "      <td>Certainly has been an interesting 24 hours!</td>\n",
       "    </tr>\n",
       "    <tr>\n",
       "      <th>4</th>\n",
       "      <td>Debate polls look great - thank you!\\n#MAGA #A...</td>\n",
       "    </tr>\n",
       "  </tbody>\n",
       "</table>\n",
       "</div>"
      ],
      "text/plain": [
       "                                                text\n",
       "0    Here is my statement.pic.twitter.com/WAZiGoQqMQ\n",
       "1  Is this really America? Terrible!pic.twitter.c...\n",
       "2  The media and establishment want me out of the...\n",
       "3        Certainly has been an interesting 24 hours!\n",
       "4  Debate polls look great - thank you!\\n#MAGA #A..."
      ]
     },
     "execution_count": 3,
     "metadata": {},
     "output_type": "execute_result"
    }
   ],
   "source": [
    "data = \"tweets.csv\"\n",
    "df = import_data(data)\n",
    "df.head()"
   ]
  },
  {
   "cell_type": "markdown",
   "metadata": {
    "colab_type": "text",
    "id": "dxqIJinx6cOT"
   },
   "source": [
    "# Pre-Process the data"
   ]
  },
  {
   "cell_type": "code",
   "execution_count": 4,
   "metadata": {
    "colab": {},
    "colab_type": "code",
    "id": "sYxy8OKo6YZp"
   },
   "outputs": [],
   "source": [
    "def preprocess(text, stem=False):\n",
    "    TEXT_CLEANING_RE = \"@\\S+|https?:\\S+|http?:\\S|[^A-Za-z0-9]+\"\n",
    "    text = re.sub(TEXT_CLEANING_RE, ' ', str(text).lower()).strip()\n",
    "    stop_words = stopwords.words(\"english\")\n",
    "    stemmer = SnowballStemmer(\"english\")\n",
    "    tokens = []\n",
    "    for token in text.split():\n",
    "        if token not in stop_words:\n",
    "            if stem:\n",
    "                tokens.append(stemmer.stem(token))\n",
    "            else:\n",
    "                tokens.append(token)\n",
    "    return \" \".join(tokens)"
   ]
  },
  {
   "cell_type": "code",
   "execution_count": 5,
   "metadata": {
    "colab": {
     "base_uri": "https://localhost:8080/",
     "height": 51
    },
    "colab_type": "code",
    "executionInfo": {
     "elapsed": 2004,
     "status": "ok",
     "timestamp": 1584457565068,
     "user": {
      "displayName": "Kha Lyl",
      "photoUrl": "https://lh3.googleusercontent.com/a-/AOh14GgFvsj4VNDWFJ2rEefJatQSqtxUXuU4JxrmOCpc=s64",
      "userId": "00701484849492216108"
     },
     "user_tz": -60
    },
    "id": "o3raOCYc40JL",
    "outputId": "fb649cd2-7c08-4af0-a0ca-2a4171e3cc0f"
   },
   "outputs": [],
   "source": [
    "def split_doc(df_clean):\n",
    "    documents = [text.split() for text in df_clean]\n",
    "    return documents"
   ]
  },
  {
   "cell_type": "code",
   "execution_count": 6,
   "metadata": {
    "colab": {},
    "colab_type": "code",
    "id": "mUvr7YNr8PXp"
   },
   "outputs": [],
   "source": [
    "def model(documents):\n",
    "    w2v_model = gensim.models.word2vec.Word2Vec(size=300, window=7, min_count=10, workers=8)\n",
    "    w2v_model.build_vocab(documents)\n",
    "    w2v_model.train(documents, total_examples=len(documents), epochs=35)\n",
    "    return w2v_model"
   ]
  },
  {
   "cell_type": "code",
   "execution_count": 7,
   "metadata": {},
   "outputs": [],
   "source": [
    "def similarity(df_clean, w2v_model):\n",
    "    instance = WmdSimilarity(df_clean, w2v_model, num_best=20)\n",
    "    return instance"
   ]
  },
  {
   "cell_type": "code",
   "execution_count": 8,
   "metadata": {},
   "outputs": [],
   "source": [
    "def top_tweets(nb_top, text):\n",
    "    clean_text = preprocess(text)\n",
    "    similarities = instance[clean_text]\n",
    "    \n",
    "    rows, cols = (nb_top, 2) \n",
    "    results = [[0 for i in range(cols)] for j in range(rows)]\n",
    "\n",
    "    print('Your text:')\n",
    "    print(text)\n",
    "    for i in range(nb_top):\n",
    "        print('\\n\\nsimilarities = %.4f' % similarities[i][1])\n",
    "        print(df.text[similarities[i][0]])\n",
    "        results[i][0] = df.text[similarities[i][0]]\n",
    "        results[i][1] = similarities[i][1]\n",
    "    \n",
    "    return results"
   ]
  },
  {
   "cell_type": "code",
   "execution_count": 11,
   "metadata": {
    "scrolled": false
   },
   "outputs": [
    {
     "name": "stdout",
     "output_type": "stream",
     "text": [
      "Your text:\n",
      "@Scott__Marx  Can't wait to hear @realDonaldTrump run for president and fix our country! #TRUMP2016\n",
      "\n",
      "\n",
      "similarities = 0.9494\n",
      "\"@Scott__Marx  Can't wait to hear @realDonaldTrump run for president and fix our country! #TRUMP2016\"\n",
      "\n",
      "\n",
      "similarities = 0.8900\n",
      "\"@tristanmf: @realDonaldTrump Trump for president ! Trump for America ! #Trump2016\"\n",
      "\n",
      "\n",
      "similarities = 0.8836\n",
      "\"@zrill: @realDonaldTrump just confirm your intention and lets put the matter to rest, will you run? #Trump2016\"  Watch.\n",
      "\n",
      "\n",
      "similarities = 0.8820\n",
      "\"@RealSQUEZZ: @Realdonaldtrump IS A WINNER, THAT'S WHY HE WILL RUN FOR PRESIDENCY!!!!!!! #Trump2016 FOR SURE!!!!\"\n",
      "\n",
      "\n",
      "similarities = 0.8613\n",
      "\"@NattieBright: @realDonaldTrump If u r so disappointed at Obama why don't u run for president in 2016!\"  Watch!\n",
      "\n",
      "\n",
      "similarities = 0.8582\n",
      "\"@rramz1979: @realDonaldTrump Why don't you run for US president?\" Watch.\n",
      "\n",
      "\n",
      "similarities = 0.8536\n",
      "\"@barrman: @realDonaldTrump if you run for president in 2016 you would have my vote !\"\n",
      "\n",
      "\n",
      "similarities = 0.8479\n",
      "\"@Def: CNBC's John Harwood Today \"We don't have Superman presidents\" \"No\" DonaldTrump replied ..\"But we WILL if you have Trump!\" #Trump2016\n",
      "\n",
      "\n",
      "similarities = 0.8464\n",
      "\"@dmanhomee: I support DonaldTrump 100% for 2016! He is the only candidate that will return this country to the great country it once was!\"\n",
      "\n",
      "\n",
      "similarities = 0.8453\n",
      "\"@CareyTim6: Happy birthday to @realDonaldTrump, the man we need to lead us in the future. #Trump2016\"  Thank you.\n",
      "\n",
      "\n",
      "similarities = 0.8446\n",
      "\"@imFRANGtastic: @realDonaldTrump would take this country in the right direction. #USA #TrumpForPresident\"\n",
      "\n",
      "\n",
      "similarities = 0.8413\n",
      "\"@fionacarterr: @realDonaldTrump for president 2016\"\n",
      "\n",
      "\n",
      "similarities = 0.8402\n",
      "\"@ChayaLa: @realDonaldTrump Trump for President 2016! #weneedyou\"  Thanks!\n",
      "\n",
      "\n",
      "similarities = 0.8379\n",
      "\"@chuckesquivel: RT @realDonaldTrump \"@kormylo: @realDonaldTrump In my opinion you have a duty to run for president in 2016.\n",
      "\n",
      "\n",
      "similarities = 0.8377\n",
      "\"@fackinpeter: @realDonaldTrump they hate you cuz they ain't you #trump2016\"\n",
      "\n",
      "\n",
      "similarities = 0.8373\n",
      "\"@bkura99: @realDonaldTrump I hope you run for president! #Trump2016\"\n",
      "\n",
      "\n",
      "similarities = 0.8365\n",
      "\"@circuspony2: @realDonaldTrump Did you see all the whites that were robbed & assaulted during the riots, Mr President? #Trump2016\"\n",
      "\n",
      "\n",
      "similarities = 0.8355\n",
      "\"@fastercarrrrrrr: @realDonaldTrump why are you not running for president in 2016\" We'll see what happens!\n",
      "\n",
      "\n",
      "similarities = 0.8351\n",
      "Via @Reuters: \"Donald Trump takes steps toward 2016 presidential run\"http://www.reuters.com/article/2015/03/18/usa-election-trump-idUSL2N0WK0U220150318 …\n",
      "\n",
      "\n",
      "similarities = 0.8348\n",
      "\"@RLHoldenSr: @realDonaldTrump Mr Trump we are praying that you win the 2016 election! Obama is destroying the US!\"\n"
     ]
    }
   ],
   "source": [
    "df_clean = df.text.apply(lambda x: preprocess(x))\n",
    "documents = split_doc(df_clean)\n",
    "w2v_model = model(documents)\n",
    "instance = similarity(df_clean, w2v_model)\n",
    "\n",
    "nb_top = 20\n",
    "text = \"@Scott__Marx  Can't wait to hear @realDonaldTrump run for president and fix our country! #TRUMP2016\"\n",
    "results = top_tweets(nb_top, text)"
   ]
  },
  {
   "cell_type": "code",
   "execution_count": 12,
   "metadata": {},
   "outputs": [],
   "source": [
    "#import pickle\n",
    "#pickle.dump(instance, open(\"instance3.pkl\", \"xb\"), protocol=3)"
   ]
  }
 ],
 "metadata": {
  "accelerator": "GPU",
  "colab": {
   "authorship_tag": "ABX9TyO+uAFUATyBWLpEPTuSiZvn",
   "collapsed_sections": [],
   "name": "Copy of tweet_analysis.ipynb",
   "provenance": []
  },
  "kernelspec": {
   "display_name": "Python 3",
   "language": "python",
   "name": "python3"
  },
  "language_info": {
   "codemirror_mode": {
    "name": "ipython",
    "version": 3
   },
   "file_extension": ".py",
   "mimetype": "text/x-python",
   "name": "python",
   "nbconvert_exporter": "python",
   "pygments_lexer": "ipython3",
   "version": "3.7.6"
  }
 },
 "nbformat": 4,
 "nbformat_minor": 1
}
